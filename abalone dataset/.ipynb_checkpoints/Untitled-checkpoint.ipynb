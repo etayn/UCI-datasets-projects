{
 "cells": [
  {
   "cell_type": "markdown",
   "id": "1aea526b",
   "metadata": {},
   "source": [
    "# 1. Preprocessing"
   ]
  },
  {
   "cell_type": "markdown",
   "id": "9d923d38",
   "metadata": {},
   "source": [
    "### 1.1 Importing Libraries"
   ]
  },
  {
   "cell_type": "code",
   "execution_count": 1,
   "id": "85feae47",
   "metadata": {},
   "outputs": [],
   "source": [
    "import pandas as pd\n",
    "import numpy as np\n",
    "import matplotlib.pyplot as plt\n",
    "import seaborn as sns\n",
    "import imblearn\n",
    "from sklearn import preprocessing , utils"
   ]
  },
  {
   "cell_type": "markdown",
   "id": "36926b79",
   "metadata": {},
   "source": [
    "### 1.2 Dataset Metadata "
   ]
  },
  {
   "cell_type": "markdown",
   "id": "4fcf24bb",
   "metadata": {},
   "source": [
    "- Note: The data came without headers, so i checked on the UCI website and named them accordenly"
   ]
  },
  {
   "cell_type": "markdown",
   "id": "8fc1a9f8",
   "metadata": {},
   "source": [
    "- Reading the dataset and naming the columns"
   ]
  },
  {
   "cell_type": "code",
   "execution_count": 11,
   "id": "7416ff13",
   "metadata": {},
   "outputs": [],
   "source": [
    "data = pd.read_csv(\"data/abalone.data\" , sep = \",\" , header= None)"
   ]
  },
  {
   "cell_type": "code",
   "execution_count": 17,
   "id": "1d8d2de7",
   "metadata": {},
   "outputs": [],
   "source": [
    "data.columns = [\"sex\" , \"length\" , \"diameter\" , \"height\" , \"whole_weight\" , \"shucked_weight\",\n",
    "               \"viscera_weight\" , \"shell_weight\" , \"rings\"]"
   ]
  },
  {
   "cell_type": "markdown",
   "id": "11d1006b",
   "metadata": {},
   "source": [
    "- Glimspe at the dataset, and checking the dimenstions"
   ]
  },
  {
   "cell_type": "code",
   "execution_count": 18,
   "id": "86ae51fc",
   "metadata": {},
   "outputs": [
    {
     "name": "stdout",
     "output_type": "stream",
     "text": [
      "The dataset have 4177 rows and 9 columns\n"
     ]
    },
    {
     "data": {
      "text/html": [
       "<div>\n",
       "<style scoped>\n",
       "    .dataframe tbody tr th:only-of-type {\n",
       "        vertical-align: middle;\n",
       "    }\n",
       "\n",
       "    .dataframe tbody tr th {\n",
       "        vertical-align: top;\n",
       "    }\n",
       "\n",
       "    .dataframe thead th {\n",
       "        text-align: right;\n",
       "    }\n",
       "</style>\n",
       "<table border=\"1\" class=\"dataframe\">\n",
       "  <thead>\n",
       "    <tr style=\"text-align: right;\">\n",
       "      <th></th>\n",
       "      <th>sex</th>\n",
       "      <th>length</th>\n",
       "      <th>diameter</th>\n",
       "      <th>height</th>\n",
       "      <th>whole_weight</th>\n",
       "      <th>shucked_weight</th>\n",
       "      <th>viscera_weight</th>\n",
       "      <th>shell_weight</th>\n",
       "      <th>rings</th>\n",
       "    </tr>\n",
       "  </thead>\n",
       "  <tbody>\n",
       "    <tr>\n",
       "      <th>0</th>\n",
       "      <td>M</td>\n",
       "      <td>0.455</td>\n",
       "      <td>0.365</td>\n",
       "      <td>0.095</td>\n",
       "      <td>0.5140</td>\n",
       "      <td>0.2245</td>\n",
       "      <td>0.1010</td>\n",
       "      <td>0.150</td>\n",
       "      <td>15</td>\n",
       "    </tr>\n",
       "    <tr>\n",
       "      <th>1</th>\n",
       "      <td>M</td>\n",
       "      <td>0.350</td>\n",
       "      <td>0.265</td>\n",
       "      <td>0.090</td>\n",
       "      <td>0.2255</td>\n",
       "      <td>0.0995</td>\n",
       "      <td>0.0485</td>\n",
       "      <td>0.070</td>\n",
       "      <td>7</td>\n",
       "    </tr>\n",
       "    <tr>\n",
       "      <th>2</th>\n",
       "      <td>F</td>\n",
       "      <td>0.530</td>\n",
       "      <td>0.420</td>\n",
       "      <td>0.135</td>\n",
       "      <td>0.6770</td>\n",
       "      <td>0.2565</td>\n",
       "      <td>0.1415</td>\n",
       "      <td>0.210</td>\n",
       "      <td>9</td>\n",
       "    </tr>\n",
       "    <tr>\n",
       "      <th>3</th>\n",
       "      <td>M</td>\n",
       "      <td>0.440</td>\n",
       "      <td>0.365</td>\n",
       "      <td>0.125</td>\n",
       "      <td>0.5160</td>\n",
       "      <td>0.2155</td>\n",
       "      <td>0.1140</td>\n",
       "      <td>0.155</td>\n",
       "      <td>10</td>\n",
       "    </tr>\n",
       "    <tr>\n",
       "      <th>4</th>\n",
       "      <td>I</td>\n",
       "      <td>0.330</td>\n",
       "      <td>0.255</td>\n",
       "      <td>0.080</td>\n",
       "      <td>0.2050</td>\n",
       "      <td>0.0895</td>\n",
       "      <td>0.0395</td>\n",
       "      <td>0.055</td>\n",
       "      <td>7</td>\n",
       "    </tr>\n",
       "  </tbody>\n",
       "</table>\n",
       "</div>"
      ],
      "text/plain": [
       "  sex  length  diameter  height  whole_weight  shucked_weight  viscera_weight  \\\n",
       "0   M   0.455     0.365   0.095        0.5140          0.2245          0.1010   \n",
       "1   M   0.350     0.265   0.090        0.2255          0.0995          0.0485   \n",
       "2   F   0.530     0.420   0.135        0.6770          0.2565          0.1415   \n",
       "3   M   0.440     0.365   0.125        0.5160          0.2155          0.1140   \n",
       "4   I   0.330     0.255   0.080        0.2050          0.0895          0.0395   \n",
       "\n",
       "   shell_weight  rings  \n",
       "0         0.150     15  \n",
       "1         0.070      7  \n",
       "2         0.210      9  \n",
       "3         0.155     10  \n",
       "4         0.055      7  "
      ]
     },
     "execution_count": 18,
     "metadata": {},
     "output_type": "execute_result"
    }
   ],
   "source": [
    "print(f\"The dataset have {data.shape[0]} rows and {data.shape[1]} columns\")\n",
    "data.head()"
   ]
  },
  {
   "cell_type": "markdown",
   "id": "0b28b4ba",
   "metadata": {},
   "source": [
    "- The dataset is pretty small, only 4177 rows without checking yet for duplication"
   ]
  },
  {
   "cell_type": "markdown",
   "id": "4858549e",
   "metadata": {},
   "source": [
    "- Information about the columns - number of NA and type of each column."
   ]
  },
  {
   "cell_type": "code",
   "execution_count": 19,
   "id": "bb327a22",
   "metadata": {},
   "outputs": [
    {
     "name": "stdout",
     "output_type": "stream",
     "text": [
      "<class 'pandas.core.frame.DataFrame'>\n",
      "RangeIndex: 4177 entries, 0 to 4176\n",
      "Data columns (total 9 columns):\n",
      " #   Column          Non-Null Count  Dtype  \n",
      "---  ------          --------------  -----  \n",
      " 0   sex             4177 non-null   object \n",
      " 1   length          4177 non-null   float64\n",
      " 2   diameter        4177 non-null   float64\n",
      " 3   height          4177 non-null   float64\n",
      " 4   whole_weight    4177 non-null   float64\n",
      " 5   shucked_weight  4177 non-null   float64\n",
      " 6   viscera_weight  4177 non-null   float64\n",
      " 7   shell_weight    4177 non-null   float64\n",
      " 8   rings           4177 non-null   int64  \n",
      "dtypes: float64(7), int64(1), object(1)\n",
      "memory usage: 293.8+ KB\n"
     ]
    }
   ],
   "source": [
    "data.info()"
   ]
  },
  {
   "cell_type": "markdown",
   "id": "bd9c6604",
   "metadata": {},
   "source": [
    "- All except the \"sex\" column are numeric\n",
    "- We dont have any NA in the dataset - great!"
   ]
  },
  {
   "cell_type": "markdown",
   "id": "3d91e335",
   "metadata": {},
   "source": [
    "- Checking the number of unique instances for each variable to get a hint if we have duplicate instances"
   ]
  },
  {
   "cell_type": "code",
   "execution_count": 20,
   "id": "3e70f6cb",
   "metadata": {},
   "outputs": [
    {
     "data": {
      "text/plain": [
       "sex                  3\n",
       "length             134\n",
       "diameter           111\n",
       "height              51\n",
       "whole_weight      2429\n",
       "shucked_weight    1515\n",
       "viscera_weight     880\n",
       "shell_weight       926\n",
       "rings               28\n",
       "dtype: int64"
      ]
     },
     "execution_count": 20,
     "metadata": {},
     "output_type": "execute_result"
    }
   ],
   "source": [
    "data.nunique()"
   ]
  },
  {
   "cell_type": "markdown",
   "id": "5fe3fcc2",
   "metadata": {},
   "source": [
    "- Considering the variables are mostly numeric, it is odd to see that even the most diverse variable - the \"whole_weight\" is only half of the total instances. Thus we will check with df.duplicated() to make sure\n",
    "- We have 28 different levels in our target - \"rings\"\n",
    "- The feature \"sex\" have 3 categories, with the extra one is \"I\" which is \"infant\""
   ]
  },
  {
   "cell_type": "markdown",
   "id": "24f16c79",
   "metadata": {},
   "source": [
    "- Checking the number of duplicated instances"
   ]
  },
  {
   "cell_type": "code",
   "execution_count": 21,
   "id": "3baf737c",
   "metadata": {},
   "outputs": [
    {
     "data": {
      "text/plain": [
       "0"
      ]
     },
     "execution_count": 21,
     "metadata": {},
     "output_type": "execute_result"
    }
   ],
   "source": [
    "data.duplicated().sum()"
   ]
  },
  {
   "cell_type": "markdown",
   "id": "8e901716",
   "metadata": {},
   "source": [
    "- Great, we don't have any duplicated rows! "
   ]
  },
  {
   "cell_type": "markdown",
   "id": "6dff22ef",
   "metadata": {},
   "source": [
    "- __Thus we conclude the metadata section - we checked for NA, the types of our columns, the shape of our dataset and made sure we don't have any duplicates.__"
   ]
  },
  {
   "cell_type": "markdown",
   "id": "a7cd85d2",
   "metadata": {},
   "source": [
    "### 1.3 EDA"
   ]
  },
  {
   "cell_type": "markdown",
   "id": "f280a62d",
   "metadata": {},
   "source": [
    "- __In this section we will perform EDA on out dataset, using statistics, plots and tables__"
   ]
  },
  {
   "cell_type": "markdown",
   "id": "f84b00a4",
   "metadata": {},
   "source": [
    "### 1.3.1 Target Variable"
   ]
  },
  {
   "cell_type": "markdown",
   "id": "70bae24e",
   "metadata": {},
   "source": [
    "- First, we will check the distribuion of \"rings\" - the variable that we want to predict"
   ]
  },
  {
   "cell_type": "code",
   "execution_count": 34,
   "id": "ca8bfbf5",
   "metadata": {},
   "outputs": [
    {
     "data": {
      "text/html": [
       "<div>\n",
       "<style scoped>\n",
       "    .dataframe tbody tr th:only-of-type {\n",
       "        vertical-align: middle;\n",
       "    }\n",
       "\n",
       "    .dataframe tbody tr th {\n",
       "        vertical-align: top;\n",
       "    }\n",
       "\n",
       "    .dataframe thead th {\n",
       "        text-align: right;\n",
       "    }\n",
       "</style>\n",
       "<table border=\"1\" class=\"dataframe\">\n",
       "  <thead>\n",
       "    <tr style=\"text-align: right;\">\n",
       "      <th></th>\n",
       "      <th>rings</th>\n",
       "      <th>count</th>\n",
       "      <th>pct</th>\n",
       "    </tr>\n",
       "  </thead>\n",
       "  <tbody>\n",
       "    <tr>\n",
       "      <th>0</th>\n",
       "      <td>9</td>\n",
       "      <td>689</td>\n",
       "      <td>0.164951</td>\n",
       "    </tr>\n",
       "    <tr>\n",
       "      <th>1</th>\n",
       "      <td>10</td>\n",
       "      <td>634</td>\n",
       "      <td>0.151784</td>\n",
       "    </tr>\n",
       "    <tr>\n",
       "      <th>2</th>\n",
       "      <td>8</td>\n",
       "      <td>568</td>\n",
       "      <td>0.135983</td>\n",
       "    </tr>\n",
       "    <tr>\n",
       "      <th>3</th>\n",
       "      <td>11</td>\n",
       "      <td>487</td>\n",
       "      <td>0.116591</td>\n",
       "    </tr>\n",
       "    <tr>\n",
       "      <th>4</th>\n",
       "      <td>7</td>\n",
       "      <td>391</td>\n",
       "      <td>0.093608</td>\n",
       "    </tr>\n",
       "    <tr>\n",
       "      <th>5</th>\n",
       "      <td>12</td>\n",
       "      <td>267</td>\n",
       "      <td>0.063921</td>\n",
       "    </tr>\n",
       "    <tr>\n",
       "      <th>6</th>\n",
       "      <td>6</td>\n",
       "      <td>259</td>\n",
       "      <td>0.062006</td>\n",
       "    </tr>\n",
       "    <tr>\n",
       "      <th>7</th>\n",
       "      <td>13</td>\n",
       "      <td>203</td>\n",
       "      <td>0.048599</td>\n",
       "    </tr>\n",
       "    <tr>\n",
       "      <th>8</th>\n",
       "      <td>14</td>\n",
       "      <td>126</td>\n",
       "      <td>0.030165</td>\n",
       "    </tr>\n",
       "    <tr>\n",
       "      <th>9</th>\n",
       "      <td>5</td>\n",
       "      <td>115</td>\n",
       "      <td>0.027532</td>\n",
       "    </tr>\n",
       "    <tr>\n",
       "      <th>10</th>\n",
       "      <td>15</td>\n",
       "      <td>103</td>\n",
       "      <td>0.024659</td>\n",
       "    </tr>\n",
       "    <tr>\n",
       "      <th>11</th>\n",
       "      <td>16</td>\n",
       "      <td>67</td>\n",
       "      <td>0.016040</td>\n",
       "    </tr>\n",
       "    <tr>\n",
       "      <th>12</th>\n",
       "      <td>17</td>\n",
       "      <td>58</td>\n",
       "      <td>0.013886</td>\n",
       "    </tr>\n",
       "    <tr>\n",
       "      <th>13</th>\n",
       "      <td>4</td>\n",
       "      <td>57</td>\n",
       "      <td>0.013646</td>\n",
       "    </tr>\n",
       "    <tr>\n",
       "      <th>14</th>\n",
       "      <td>18</td>\n",
       "      <td>42</td>\n",
       "      <td>0.010055</td>\n",
       "    </tr>\n",
       "    <tr>\n",
       "      <th>15</th>\n",
       "      <td>19</td>\n",
       "      <td>32</td>\n",
       "      <td>0.007661</td>\n",
       "    </tr>\n",
       "    <tr>\n",
       "      <th>16</th>\n",
       "      <td>20</td>\n",
       "      <td>26</td>\n",
       "      <td>0.006225</td>\n",
       "    </tr>\n",
       "    <tr>\n",
       "      <th>17</th>\n",
       "      <td>3</td>\n",
       "      <td>15</td>\n",
       "      <td>0.003591</td>\n",
       "    </tr>\n",
       "    <tr>\n",
       "      <th>18</th>\n",
       "      <td>21</td>\n",
       "      <td>14</td>\n",
       "      <td>0.003352</td>\n",
       "    </tr>\n",
       "    <tr>\n",
       "      <th>19</th>\n",
       "      <td>23</td>\n",
       "      <td>9</td>\n",
       "      <td>0.002155</td>\n",
       "    </tr>\n",
       "    <tr>\n",
       "      <th>20</th>\n",
       "      <td>22</td>\n",
       "      <td>6</td>\n",
       "      <td>0.001436</td>\n",
       "    </tr>\n",
       "    <tr>\n",
       "      <th>21</th>\n",
       "      <td>27</td>\n",
       "      <td>2</td>\n",
       "      <td>0.000479</td>\n",
       "    </tr>\n",
       "    <tr>\n",
       "      <th>22</th>\n",
       "      <td>24</td>\n",
       "      <td>2</td>\n",
       "      <td>0.000479</td>\n",
       "    </tr>\n",
       "    <tr>\n",
       "      <th>23</th>\n",
       "      <td>26</td>\n",
       "      <td>1</td>\n",
       "      <td>0.000239</td>\n",
       "    </tr>\n",
       "    <tr>\n",
       "      <th>24</th>\n",
       "      <td>1</td>\n",
       "      <td>1</td>\n",
       "      <td>0.000239</td>\n",
       "    </tr>\n",
       "    <tr>\n",
       "      <th>25</th>\n",
       "      <td>25</td>\n",
       "      <td>1</td>\n",
       "      <td>0.000239</td>\n",
       "    </tr>\n",
       "    <tr>\n",
       "      <th>26</th>\n",
       "      <td>2</td>\n",
       "      <td>1</td>\n",
       "      <td>0.000239</td>\n",
       "    </tr>\n",
       "    <tr>\n",
       "      <th>27</th>\n",
       "      <td>29</td>\n",
       "      <td>1</td>\n",
       "      <td>0.000239</td>\n",
       "    </tr>\n",
       "  </tbody>\n",
       "</table>\n",
       "</div>"
      ],
      "text/plain": [
       "    rings  count       pct\n",
       "0       9    689  0.164951\n",
       "1      10    634  0.151784\n",
       "2       8    568  0.135983\n",
       "3      11    487  0.116591\n",
       "4       7    391  0.093608\n",
       "5      12    267  0.063921\n",
       "6       6    259  0.062006\n",
       "7      13    203  0.048599\n",
       "8      14    126  0.030165\n",
       "9       5    115  0.027532\n",
       "10     15    103  0.024659\n",
       "11     16     67  0.016040\n",
       "12     17     58  0.013886\n",
       "13      4     57  0.013646\n",
       "14     18     42  0.010055\n",
       "15     19     32  0.007661\n",
       "16     20     26  0.006225\n",
       "17      3     15  0.003591\n",
       "18     21     14  0.003352\n",
       "19     23      9  0.002155\n",
       "20     22      6  0.001436\n",
       "21     27      2  0.000479\n",
       "22     24      2  0.000479\n",
       "23     26      1  0.000239\n",
       "24      1      1  0.000239\n",
       "25     25      1  0.000239\n",
       "26      2      1  0.000239\n",
       "27     29      1  0.000239"
      ]
     },
     "execution_count": 34,
     "metadata": {},
     "output_type": "execute_result"
    }
   ],
   "source": [
    "data.groupby(\"rings\" , as_index=False).agg(count = (\"rings\" , \"count\") , \n",
    "                                          pct = (\"rings\" , lambda x: x.count() / data[\"rings\"].size))\\\n",
    ".sort_values(\"count\" , ascending=False).reset_index(drop = True)"
   ]
  },
  {
   "cell_type": "code",
   "execution_count": 53,
   "id": "83496185",
   "metadata": {},
   "outputs": [
    {
     "data": {
      "text/plain": [
       "[Text(0.5, 1.0, 'Boxplot of Rings'), Text(0.5, 0, 'Number of Rings')]"
      ]
     },
     "execution_count": 53,
     "metadata": {},
     "output_type": "execute_result"
    },
    {
     "data": {
      "image/png": "[encoded data removed]",
      "text/plain": [
       "<Figure size 1000x500 with 2 Axes>"
      ]
     },
     "metadata": {},
     "output_type": "display_data"
    }
   ],
   "source": [
    "f , ax = plt.subplots(1,2 , figsize = (10,5) , sharex=False , sharey=False)\n",
    "sns.histplot(data = data , x=\"rings\" , ax = ax[0])\\\n",
    ".set(title = \"Distribution of Rings\" , xlabel = \"Number of Rings\" , ylabel = \"Count\")\n",
    "sns.boxplot(data=data , x = \"rings\" , ax = ax[1] , showmeans = True , meanline = True , meanprops = {\"color\" : \"white\"})\\\n",
    ".set(title = \"Boxplot of Rings\" , xlabel = \"Number of Rings\")"
   ]
  },
  {
   "cell_type": "markdown",
   "id": "fee8d5da",
   "metadata": {},
   "source": [
    "- We got major problem - the target variable which we want to classify is extremly imbalanced. We will use SMOTE algorythm for up-sampling our targer levels. But because the algo use KNN for creating synthetic points, it needs more than 1 neighbour. Becuase of the reason, we will completly drop the levels that have 2 or less instances - meaning the levels (27,24,26,1,25,2,29). With SMOTE we will up-sample all the levels that are under 100 instances to 100\n",
    "- We will drop the levels now, so their 1-2 instances won't intervine with our next plots and statistics\n",
    "- Also notice we don't have 28 in our levels, with regard to the sparity in the larger rings this is probably normal\n",
    "- __Important note__: We will use SMOTE only after(!) splitting the dataset to train and test, that is because if we didn't to that we will have synthetic instances in our test data, and their not real"
   ]
  },
  {
   "cell_type": "code",
   "execution_count": 57,
   "id": "97690698",
   "metadata": {},
   "outputs": [],
   "source": [
    "data.drop(data[(data.rings < 3) | (data.rings > 23)].index , inplace=True)"
   ]
  },
  {
   "cell_type": "markdown",
   "id": "fc07a625",
   "metadata": {},
   "source": [
    "### 1.3.2 Numeric Variables"
   ]
  },
  {
   "cell_type": "code",
   "execution_count": 58,
   "id": "f1b36ab9",
   "metadata": {},
   "outputs": [
    {
     "data": {
      "text/html": [
       "<div>\n",
       "<style scoped>\n",
       "    .dataframe tbody tr th:only-of-type {\n",
       "        vertical-align: middle;\n",
       "    }\n",
       "\n",
       "    .dataframe tbody tr th {\n",
       "        vertical-align: top;\n",
       "    }\n",
       "\n",
       "    .dataframe thead th {\n",
       "        text-align: right;\n",
       "    }\n",
       "</style>\n",
       "<table border=\"1\" class=\"dataframe\">\n",
       "  <thead>\n",
       "    <tr style=\"text-align: right;\">\n",
       "      <th></th>\n",
       "      <th>count</th>\n",
       "      <th>mean</th>\n",
       "      <th>std</th>\n",
       "      <th>min</th>\n",
       "      <th>25%</th>\n",
       "      <th>50%</th>\n",
       "      <th>75%</th>\n",
       "      <th>max</th>\n",
       "    </tr>\n",
       "  </thead>\n",
       "  <tbody>\n",
       "    <tr>\n",
       "      <th>length</th>\n",
       "      <td>4168.0</td>\n",
       "      <td>0.523978</td>\n",
       "      <td>0.119751</td>\n",
       "      <td>0.1100</td>\n",
       "      <td>0.450000</td>\n",
       "      <td>0.54500</td>\n",
       "      <td>0.6150</td>\n",
       "      <td>0.8150</td>\n",
       "    </tr>\n",
       "    <tr>\n",
       "      <th>diameter</th>\n",
       "      <td>4168.0</td>\n",
       "      <td>0.407849</td>\n",
       "      <td>0.098961</td>\n",
       "      <td>0.0900</td>\n",
       "      <td>0.350000</td>\n",
       "      <td>0.42500</td>\n",
       "      <td>0.4800</td>\n",
       "      <td>0.6500</td>\n",
       "    </tr>\n",
       "    <tr>\n",
       "      <th>height</th>\n",
       "      <td>4168.0</td>\n",
       "      <td>0.139473</td>\n",
       "      <td>0.041707</td>\n",
       "      <td>0.0000</td>\n",
       "      <td>0.115000</td>\n",
       "      <td>0.14000</td>\n",
       "      <td>0.1650</td>\n",
       "      <td>1.1300</td>\n",
       "    </tr>\n",
       "    <tr>\n",
       "      <th>whole_weight</th>\n",
       "      <td>4168.0</td>\n",
       "      <td>0.827825</td>\n",
       "      <td>0.489297</td>\n",
       "      <td>0.0080</td>\n",
       "      <td>0.441500</td>\n",
       "      <td>0.79925</td>\n",
       "      <td>1.1510</td>\n",
       "      <td>2.8255</td>\n",
       "    </tr>\n",
       "    <tr>\n",
       "      <th>shucked_weight</th>\n",
       "      <td>4168.0</td>\n",
       "      <td>0.359232</td>\n",
       "      <td>0.221845</td>\n",
       "      <td>0.0025</td>\n",
       "      <td>0.186000</td>\n",
       "      <td>0.33575</td>\n",
       "      <td>0.5015</td>\n",
       "      <td>1.4880</td>\n",
       "    </tr>\n",
       "    <tr>\n",
       "      <th>viscera_weight</th>\n",
       "      <td>4168.0</td>\n",
       "      <td>0.180502</td>\n",
       "      <td>0.109538</td>\n",
       "      <td>0.0005</td>\n",
       "      <td>0.093375</td>\n",
       "      <td>0.17050</td>\n",
       "      <td>0.2525</td>\n",
       "      <td>0.7600</td>\n",
       "    </tr>\n",
       "    <tr>\n",
       "      <th>shell_weight</th>\n",
       "      <td>4168.0</td>\n",
       "      <td>0.238377</td>\n",
       "      <td>0.138419</td>\n",
       "      <td>0.0030</td>\n",
       "      <td>0.130000</td>\n",
       "      <td>0.23325</td>\n",
       "      <td>0.3275</td>\n",
       "      <td>1.0050</td>\n",
       "    </tr>\n",
       "    <tr>\n",
       "      <th>rings</th>\n",
       "      <td>4168.0</td>\n",
       "      <td>9.910749</td>\n",
       "      <td>3.153493</td>\n",
       "      <td>3.0000</td>\n",
       "      <td>8.000000</td>\n",
       "      <td>9.00000</td>\n",
       "      <td>11.0000</td>\n",
       "      <td>23.0000</td>\n",
       "    </tr>\n",
       "  </tbody>\n",
       "</table>\n",
       "</div>"
      ],
      "text/plain": [
       "                 count      mean       std     min       25%      50%  \\\n",
       "length          4168.0  0.523978  0.119751  0.1100  0.450000  0.54500   \n",
       "diameter        4168.0  0.407849  0.098961  0.0900  0.350000  0.42500   \n",
       "height          4168.0  0.139473  0.041707  0.0000  0.115000  0.14000   \n",
       "whole_weight    4168.0  0.827825  0.489297  0.0080  0.441500  0.79925   \n",
       "shucked_weight  4168.0  0.359232  0.221845  0.0025  0.186000  0.33575   \n",
       "viscera_weight  4168.0  0.180502  0.109538  0.0005  0.093375  0.17050   \n",
       "shell_weight    4168.0  0.238377  0.138419  0.0030  0.130000  0.23325   \n",
       "rings           4168.0  9.910749  3.153493  3.0000  8.000000  9.00000   \n",
       "\n",
       "                    75%      max  \n",
       "length           0.6150   0.8150  \n",
       "diameter         0.4800   0.6500  \n",
       "height           0.1650   1.1300  \n",
       "whole_weight     1.1510   2.8255  \n",
       "shucked_weight   0.5015   1.4880  \n",
       "viscera_weight   0.2525   0.7600  \n",
       "shell_weight     0.3275   1.0050  \n",
       "rings           11.0000  23.0000  "
      ]
     },
     "execution_count": 58,
     "metadata": {},
     "output_type": "execute_result"
    }
   ],
   "source": [
    "data.describe().transpose()"
   ]
  },
  {
   "cell_type": "code",
   "execution_count": null,
   "id": "825027b4",
   "metadata": {},
   "outputs": [],
   "source": []
  },
  {
   "cell_type": "code",
   "execution_count": null,
   "id": "5550a095",
   "metadata": {},
   "outputs": [],
   "source": []
  },
  {
   "cell_type": "code",
   "execution_count": null,
   "id": "e61785e5",
   "metadata": {},
   "outputs": [],
   "source": []
  },
  {
   "cell_type": "code",
   "execution_count": null,
   "id": "fe475a9e",
   "metadata": {},
   "outputs": [],
   "source": []
  },
  {
   "cell_type": "code",
   "execution_count": 8,
   "id": "a6de1ea2",
   "metadata": {},
   "outputs": [],
   "source": [
    "dataset , targets = data.iloc[: , :-1] , data[\"rings\"]"
   ]
  },
  {
   "cell_type": "code",
   "execution_count": 9,
   "id": "ac95d13c",
   "metadata": {},
   "outputs": [
    {
     "data": {
      "text/plain": [
       "<AxesSubplot: >"
      ]
     },
     "execution_count": 9,
     "metadata": {},
     "output_type": "execute_result"
    },
    {
     "data": {
      "image/png": "[encoded data removed]",
      "text/plain": [
       "<Figure size 640x480 with 2 Axes>"
      ]
     },
     "metadata": {},
     "output_type": "display_data"
    }
   ],
   "source": [
    "sns.heatmap(dataset.corr(numeric_only=True) , annot=True)"
   ]
  },
  {
   "cell_type": "markdown",
   "id": "3bf13e41",
   "metadata": {},
   "source": [
    "- distribution of features for each type of sex\n",
    "- number of instances for each type of sex\n",
    "- balance targets "
   ]
  },
  {
   "cell_type": "code",
   "execution_count": 62,
   "id": "403944ac",
   "metadata": {},
   "outputs": [
    {
     "data": {
      "text/plain": [
       "<seaborn.axisgrid.FacetGrid at 0x202ef35c8b0>"
      ]
     },
     "execution_count": 62,
     "metadata": {},
     "output_type": "execute_result"
    },
    {
     "data": {
      "image/png": "[encoded data removed]",
      "text/plain": [
       "<Figure size 3062x500 with 1 Axes>"
      ]
     },
     "metadata": {},
     "output_type": "display_data"
    }
   ],
   "source": [
    "features = dataset.columns[(dataset.columns != \"sex\") & (dataset.columns != \"whole_weight\")]\n",
    "dfm = dataset.melt(id_vars='sex', value_vars= features.to_list)\n",
    "sns.displot(kind='kde', data=dfm, col='variable', col_wrap=6, x='value', hue='sex', facet_kws={'sharey': False, 'sharex': False})"
   ]
  },
  {
   "cell_type": "code",
   "execution_count": 48,
   "id": "9e5bc44e",
   "metadata": {},
   "outputs": [
    {
     "data": {
      "text/plain": [
       "list"
      ]
     },
     "execution_count": 48,
     "metadata": {},
     "output_type": "execute_result"
    }
   ],
   "source": []
  },
  {
   "cell_type": "code",
   "execution_count": null,
   "id": "8e306a5f",
   "metadata": {},
   "outputs": [],
   "source": []
  },
  {
   "cell_type": "code",
   "execution_count": null,
   "id": "aacb88df",
   "metadata": {},
   "outputs": [],
   "source": []
  },
  {
   "cell_type": "code",
   "execution_count": null,
   "id": "1acd8d59",
   "metadata": {},
   "outputs": [],
   "source": []
  },
  {
   "cell_type": "code",
   "execution_count": null,
   "id": "e32f6874",
   "metadata": {},
   "outputs": [],
   "source": []
  },
  {
   "cell_type": "code",
   "execution_count": null,
   "id": "d3176684",
   "metadata": {},
   "outputs": [],
   "source": []
  },
  {
   "cell_type": "code",
   "execution_count": 46,
   "id": "d800634c",
   "metadata": {},
   "outputs": [],
   "source": [
    "dataset[[\"sex_I\" , \"sex_M\"]] = pd.get_dummies(dataset[\"sex\"] , drop_first=True)\n",
    "dataset.drop('sex' , axis=  1 , inplace=True)"
   ]
  },
  {
   "cell_type": "code",
   "execution_count": 59,
   "id": "f0db9c98",
   "metadata": {},
   "outputs": [],
   "source": [
    "targets_to_sample = (targets.groupby(targets).count() < 100)\n",
    "targets_to_sample = targets_to_sample[targets_to_sample == True].index\n",
    "targets_to_sample_dict = {t:100 for t in targets_to_sample}"
   ]
  },
  {
   "cell_type": "code",
   "execution_count": 64,
   "id": "b4cc0dae",
   "metadata": {},
   "outputs": [],
   "source": [
    "oversample = imblearn.over_sampling.SMOTE(random_state=42 , k_neighbors=5 , sampling_strategy=targets_to_sample_dict)\n",
    "X_train , y_train = oversample.fit_resample(dataset , targets)"
   ]
  },
  {
   "cell_type": "code",
   "execution_count": 74,
   "id": "fb48201e",
   "metadata": {},
   "outputs": [
    {
     "name": "stdout",
     "output_type": "stream",
     "text": [
      "        length  diameter    height  whole_weight  shucked_weight  \\\n",
      "4832  0.604405  0.461744  0.196789      1.187981        0.368983   \n",
      "4833  0.535626  0.407813  0.138593      0.777755        0.287387   \n",
      "4834  0.459418  0.382898  0.164276      0.816645        0.250217   \n",
      "4835  0.532131  0.407342  0.147764      0.796698        0.276217   \n",
      "4836  0.608637  0.488709  0.150143      1.098903        0.422510   \n",
      "4837  0.566944  0.428313  0.150734      0.884046        0.321122   \n",
      "4838  0.613279  0.499836  0.174590      1.129393        0.409590   \n",
      "4839  0.541657  0.411424  0.140960      0.785131        0.289962   \n",
      "4840  0.620000  0.481882  0.205941      1.215519        0.380287   \n",
      "4841  0.497334  0.394564  0.161359      0.817228        0.251092   \n",
      "\n",
      "      viscera_weight  shell_weight  sex_I  sex_M  \n",
      "4832        0.262799      0.419405      0      0  \n",
      "4833        0.169657      0.255209      0      0  \n",
      "4834        0.186356      0.270071      0      0  \n",
      "4835        0.167257      0.280422      0      0  \n",
      "4836        0.201833      0.359139      0      1  \n",
      "4837        0.201027      0.302360      0      0  \n",
      "4838        0.224631      0.371475      0      0  \n",
      "4839        0.173517      0.269535      0      0  \n",
      "4840        0.270000      0.425494      0      0  \n",
      "4841        0.165648      0.290488      0      0  \n",
      "4832    23\n",
      "4833    23\n",
      "4834    23\n",
      "4835    23\n",
      "4836    23\n",
      "4837    23\n",
      "4838    23\n",
      "4839    23\n",
      "4840    23\n",
      "4841    23\n",
      "Name: rings, dtype: category\n",
      "Categories (21, int64): [3, 4, 5, 6, ..., 20, 21, 22, 23]\n"
     ]
    }
   ],
   "source": [
    "print(X_train.iloc[-10: ,:])\n",
    "print(y_train.iloc[-10:])"
   ]
  },
  {
   "cell_type": "code",
   "execution_count": null,
   "id": "55b7eed2",
   "metadata": {},
   "outputs": [],
   "source": []
  }
 ],
 "metadata": {
  "kernelspec": {
   "display_name": "Python 3 (ipykernel)",
   "language": "python",
   "name": "python3"
  },
  "language_info": {
   "codemirror_mode": {
    "name": "ipython",
    "version": 3
   },
   "file_extension": ".py",
   "mimetype": "text/x-python",
   "name": "python",
   "nbconvert_exporter": "python",
   "pygments_lexer": "ipython3",
   "version": "3.8.8"
  }
 },
 "nbformat": 4,
 "nbformat_minor": 5
}
